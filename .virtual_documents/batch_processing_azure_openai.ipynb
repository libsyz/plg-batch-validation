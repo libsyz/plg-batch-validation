





from openai import AzureOpenAI
import requests
import json
import pandas as pd





from config import AZURE_API_KEY, AZURE_API_VERSION, AZURE_ENDPOINT, AZURE_MODEL_NAME





csv_path = "cross_validation_set.csv"

cases = pd.read_csv(csv_path)

print(cases.shape)

pd.set_option('display.max_columns', None)
display(cases[:5])





prompt_files = {
    "BUSINESS_GOAL_PROMPT": "./prompts/business_goal.md",
    "COPILOT_FEEDBACK_PROMPT": "./prompts/copilot_feedback.md",
    "COPILOT_VALUE_ADD_PROMPT": "./prompts/copilot_value_add.md",
    "M365_PRODUCT_FEEDBACK_PROMPT": "./prompts/m365_product_feedback.md",
    "M365_RECOMMENDATION": "./prompts/m365_recommendation.md"
}

# Load prompts into a dictionary
prompts = {}
for name, path in prompt_files.items():
    with open(path, "r", encoding="utf-8") as f:
        prompts[name] = f.read()

# Access like this
print(prompts["BUSINESS_GOAL_PROMPT"][:15])





column_mapping = { 
    "BUSINESS_GOAL_PROMPT": {'column_name': "Business Goals and Needs", 'identifier': 'BG'},
    "COPILOT_FEEDBACK_PROMPT": {'column_name': "Copilot Insights", 'identifier': 'CFB'},
    "COPILOT_VALUE_ADD_PROMPT": {'column_name': "Recommendation Details", 'identifier': 'CVA'},
    "M365_PRODUCT_FEEDBACK_PROMPT": {'column_name': "Product Feedback and Limitations", 'identifier': 'PFB'},
    "M365_RECOMMENDATION": {'column_name': "Product Led Growth Conversation", 'identifier': 'PREC'}
}


def transform_csv_to_jsonl(prompt_template, jsonl_path, case_limit=None):

    # implement case limit is pending 
    
    if prompt_template not in column_mapping.keys(): 
        raise ValueError(f"Prompt '{prompt_template}' not found in prompt dictionary.")


    prompt = prompts[prompt_template]
    identifier = column_mapping[prompt_template]['identifier']
    insights_column = column_mapping[prompt_template]['column_name']
    
    with open(jsonl_path, "w", encoding="utf-8") as output_file:
        for _, row in cases.iterrows():
            if row[insights_column] == '' or row[insights_column] == None:
                continue

            jsonl_row = { 
                "custom_id": identifier + '-' + row['UT_ID'],
                "method": "POST", 
                "url": "/chat/completions", 
                "body": {
                    "model": AZURE_MODEL_NAME, 
                    "messages": [
                        {
                            "role": "system", 
                            "content": prompt
                        }, 
                        {
                            "role": "user", 
                             "content": row[insights_column]
                        }
                    ]
                }
            }

            
            output_file.write(json.dumps(jsonl_row, ensure_ascii=False) + "\n")

    print(f"✅ Created JSONL at {jsonl_path} with {len(cases)} insights.")

transform_csv_to_jsonl('BUSINESS_GOAL_PROMPT', './business_goals_batch.jsonl')





def submit_batch_job(prompt_path, input_file_path, deployment_name, output_container_url):

    client = AzureOpenAI(
        api_key= AZURE_API_KEY,
        api_version= AZURE_API_VERSION,
        azure_endpoint = AZURE_ENDPOINT
    )
    # endpoint must point to /files - if you send it to completions it fails 

    # Upload a file with a purpose of "batch"
    file = client.files.create(
      file=open(input_file_path, "rb"), 
      purpose="batch",
      #extra_body={"expires_after":{"seconds": 1209600, "anchor": "created_at"}} # Optional you can set to a number between 1209600-2592000. This is equivalent to 14-30 days
    )


    print(file.model_dump_json(indent=2))

    #print(f"File expiration: {datetime.fromtimestamp(file.expires_at) if file.expires_at is not None else 'Not set'}")

    file_id = file.id

# Submit a batch job with the file
    headers = {
        "api-key": AZURE_API_KEY,
    }

    body = {
        "input_file_id": file.id,
        "endpoint": "/chat/completions",
        "completion_window": "24h",
        "model": AZURE_MODEL_NAME,  # Use your Azure deployment name here
        "output_format": "jsonl",  # Optional, usually jsonl
        "output_expires_after": {
            "seconds": 1209600,
            "anchor": "created_at"
        }
    }

response = requests.post("https://validationtest.openai.azure.com/openai/batches?api-version=2025-01-01-preview", headers=headers, json=body)

print(response.status_code)
print(response.json())











